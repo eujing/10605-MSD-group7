{
 "cells": [
  {
   "cell_type": "code",
   "execution_count": 1,
   "metadata": {},
   "outputs": [],
   "source": [
    "f = open('kaggle_visible_evaluation_triplets.txt', 'r')"
   ]
  },
  {
   "cell_type": "code",
   "execution_count": 2,
   "metadata": {},
   "outputs": [],
   "source": [
    "song_to_count = dict()    # song: number of times it has been listened to "
   ]
  },
  {
   "cell_type": "code",
   "execution_count": 3,
   "metadata": {},
   "outputs": [],
   "source": [
    "for line in f:\n",
    "    _, song, _ = line.strip().split('\\t')\n",
    "    if song in song_to_count:\n",
    "        song_to_count[song] += 1\n",
    "    else:\n",
    "        song_to_count[song] = 1"
   ]
  },
  {
   "cell_type": "code",
   "execution_count": 4,
   "metadata": {},
   "outputs": [],
   "source": [
    "f.close()"
   ]
  },
  {
   "cell_type": "code",
   "execution_count": 28,
   "metadata": {},
   "outputs": [
    {
     "data": {
      "text/plain": [
       "4483"
      ]
     },
     "execution_count": 28,
     "metadata": {},
     "output_type": "execute_result"
    }
   ],
   "source": [
    "song_to_count['SOAUWYT12A81C206F1']"
   ]
  },
  {
   "cell_type": "code",
   "execution_count": 29,
   "metadata": {},
   "outputs": [
    {
     "name": "stdout",
     "output_type": "stream",
     "text": [
      "song id: SOFRQTD12A81C233C0, count: 5043\n",
      "\n",
      "song id: SOAUWYT12A81C206F1, count: 4483\n",
      "\n",
      "song id: SOBONKR12A58A7A7E0, count: 4136\n",
      "\n",
      "song id: SOAXGDH12A8C13F8A1, count: 3780\n",
      "\n",
      "song id: SOSXLTC12AF72A7F54, count: 3672\n",
      "\n",
      "song id: SONYKOW12AB01849C9, count: 3430\n",
      "\n",
      "song id: SOEGIYH12A6D4FC0E3, count: 3272\n",
      "\n",
      "song id: SODJWHY12A8C142CCE, count: 2791\n",
      "\n",
      "song id: SOLFXKT12AB017E3E0, count: 2725\n",
      "\n",
      "song id: SOFLJQZ12A6D4FADA6, count: 2668\n",
      "\n"
     ]
    }
   ],
   "source": [
    "songs_ordered = sorted(song_to_count.keys(), key=lambda s: song_to_count[s], reverse=True)\n",
    "top_ten_songs = songs_ordered[:10]\n",
    "\n",
    "for song in top_ten_songs:\n",
    "    print('song id: %s, count: %d\\n' % (song, song_to_count[song]))"
   ]
  },
  {
   "cell_type": "code",
   "execution_count": 30,
   "metadata": {},
   "outputs": [],
   "source": [
    "f = open('year1_test_triplets_hidden.txt', 'r')"
   ]
  },
  {
   "cell_type": "code",
   "execution_count": 31,
   "metadata": {},
   "outputs": [],
   "source": [
    "user_to_songs = dict()    # user: songs they have listened to"
   ]
  },
  {
   "cell_type": "code",
   "execution_count": 32,
   "metadata": {},
   "outputs": [],
   "source": [
    "for line in f:\n",
    "    user, song, _ = line.strip().split('\\t') \n",
    "    if user in user_to_songs:\n",
    "        user_to_songs[user].add(song) \n",
    "    else:\n",
    "        user_to_songs[user] = set([song])"
   ]
  },
  {
   "cell_type": "code",
   "execution_count": 33,
   "metadata": {},
   "outputs": [],
   "source": [
    "f.close()"
   ]
  },
  {
   "cell_type": "code",
   "execution_count": 34,
   "metadata": {},
   "outputs": [
    {
     "data": {
      "text/plain": [
       "{'SOAKOTK12A8C13F4BB',\n",
       " 'SOBMFET12A58A818DF',\n",
       " 'SOCSOVM12A8C135DBF',\n",
       " 'SOFXODN12A8C137A8C',\n",
       " 'SOGCXYO12A8C13C20F',\n",
       " 'SOHHPST12AF72A6A43',\n",
       " 'SOHLLRP12A6701F2F4',\n",
       " 'SOJPYXL12A8C13359C',\n",
       " 'SOKZGFO12AB0185FAD',\n",
       " 'SONGXRA12AB017C646',\n",
       " 'SONTPWJ12A81356D3E',\n",
       " 'SOOPCWY12A8C133E7D',\n",
       " 'SORMZMY12A8AE44FAF',\n",
       " 'SORSLLK12A8C13C8B4',\n",
       " 'SORYFEN12A8C138DD0',\n",
       " 'SOVEKBY12AB0188536'}"
      ]
     },
     "execution_count": 34,
     "metadata": {},
     "output_type": "execute_result"
    }
   ],
   "source": [
    "user_to_songs['d7083f5e1d50c264277d624340edaaf3dc16095b']"
   ]
  },
  {
   "cell_type": "code",
   "execution_count": 35,
   "metadata": {},
   "outputs": [],
   "source": [
    "precisions = []\n",
    "\n",
    "for item in user_to_songs.items():\n",
    "    user = item[0]\n",
    "    songs = item[1]\n",
    "    \n",
    "    user_precision = len(set(top_ten_songs) & set(songs)) / float(10)\n",
    "    precisions.append(user_precision)"
   ]
  },
  {
   "cell_type": "code",
   "execution_count": 38,
   "metadata": {},
   "outputs": [
    {
     "data": {
      "text/plain": [
       "[0.0, 0.0, 0.2, 0.0, 0.0]"
      ]
     },
     "execution_count": 38,
     "metadata": {},
     "output_type": "execute_result"
    }
   ],
   "source": [
    "precisions[:5]"
   ]
  },
  {
   "cell_type": "code",
   "execution_count": 41,
   "metadata": {},
   "outputs": [
    {
     "name": "stdout",
     "output_type": "stream",
     "text": [
      "Baseline precision: 0.033891\n"
     ]
    }
   ],
   "source": [
    "final_precision = sum(precisions) / float(len(precisions))\n",
    "print('Baseline precision: %f' % final_precision)\n"
   ]
  },
  {
   "cell_type": "code",
   "execution_count": null,
   "metadata": {},
   "outputs": [],
   "source": []
  }
 ],
 "metadata": {
  "kernelspec": {
   "display_name": "Python 3",
   "language": "python",
   "name": "python3"
  },
  "language_info": {
   "codemirror_mode": {
    "name": "ipython",
    "version": 3
   },
   "file_extension": ".py",
   "mimetype": "text/x-python",
   "name": "python",
   "nbconvert_exporter": "python",
   "pygments_lexer": "ipython3",
   "version": "3.6.1"
  }
 },
 "nbformat": 4,
 "nbformat_minor": 4
}
