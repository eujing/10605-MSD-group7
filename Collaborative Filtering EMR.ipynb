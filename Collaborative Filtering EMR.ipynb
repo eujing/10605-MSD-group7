{
 "cells": [
  {
   "cell_type": "code",
   "execution_count": 1,
   "metadata": {},
   "outputs": [
    {
     "data": {
      "application/vnd.jupyter.widget-view+json": {
       "model_id": "2c1de593d5004e868dca15c5d956764e",
       "version_major": 2,
       "version_minor": 0
      },
      "text/plain": [
       "VBox()"
      ]
     },
     "metadata": {},
     "output_type": "display_data"
    },
    {
     "name": "stdout",
     "output_type": "stream",
     "text": [
      "Starting Spark application\n"
     ]
    },
    {
     "data": {
      "text/html": [
       "<table>\n",
       "<tr><th>ID</th><th>YARN Application ID</th><th>Kind</th><th>State</th><th>Spark UI</th><th>Driver log</th><th>Current session?</th></tr><tr><td>1</td><td>application_1606873502644_0002</td><td>pyspark</td><td>idle</td><td><a target=\"_blank\" href=\"http://ip-172-31-80-118.ec2.internal:20888/proxy/application_1606873502644_0002/\" >Link</a></td><td><a target=\"_blank\" href=\"http://ip-172-31-85-220.ec2.internal:8042/node/containerlogs/container_1606873502644_0002_01_000001/livy\" >Link</a></td><td>✔</td></tr></table>"
      ],
      "text/plain": [
       "<IPython.core.display.HTML object>"
      ]
     },
     "metadata": {},
     "output_type": "display_data"
    },
    {
     "data": {
      "application/vnd.jupyter.widget-view+json": {
       "model_id": "",
       "version_major": 2,
       "version_minor": 0
      },
      "text/plain": [
       "FloatProgress(value=0.0, bar_style='info', description='Progress:', layout=Layout(height='25px', width='50%'),…"
      ]
     },
     "metadata": {},
     "output_type": "display_data"
    },
    {
     "name": "stdout",
     "output_type": "stream",
     "text": [
      "SparkSession available as 'spark'.\n"
     ]
    },
    {
     "data": {
      "application/vnd.jupyter.widget-view+json": {
       "model_id": "",
       "version_major": 2,
       "version_minor": 0
      },
      "text/plain": [
       "FloatProgress(value=0.0, bar_style='info', description='Progress:', layout=Layout(height='25px', width='50%'),…"
      ]
     },
     "metadata": {},
     "output_type": "display_data"
    }
   ],
   "source": [
    "from pyspark.sql import functions as F\n",
    "from pyspark.sql.types import IntegerType, StringType, StructField, StructType\n",
    "from pyspark.ml import Pipeline\n",
    "from pyspark.ml.feature import StringIndexer\n",
    "from pyspark.mllib.recommendation import ALS, MatrixFactorizationModel\n",
    "from pyspark.mllib.evaluation import RankingMetrics"
   ]
  },
  {
   "cell_type": "code",
   "execution_count": 2,
   "metadata": {},
   "outputs": [
    {
     "data": {
      "application/vnd.jupyter.widget-view+json": {
       "model_id": "f68bd38ee1a949b98d4bedef4553dc73",
       "version_major": 2,
       "version_minor": 0
      },
      "text/plain": [
       "VBox()"
      ]
     },
     "metadata": {},
     "output_type": "display_data"
    },
    {
     "data": {
      "application/vnd.jupyter.widget-view+json": {
       "model_id": "",
       "version_major": 2,
       "version_minor": 0
      },
      "text/plain": [
       "FloatProgress(value=0.0, bar_style='info', description='Progress:', layout=Layout(height='25px', width='50%'),…"
      ]
     },
     "metadata": {},
     "output_type": "display_data"
    }
   ],
   "source": [
    "train_df = (sc.textFile(\"s3://millionsongs10605/EvalDataYear1MSDWebsite/year1_test_triplets_visible.txt\")\n",
    "        .map(lambda l: l.split(\"\\t\"))\n",
    "        .toDF([\"user_id\", \"song_id\", \"count\"]))\n",
    "\n",
    "test_df = (sc.textFile(\"s3://millionsongs10605/EvalDataYear1MSDWebsite/year1_test_triplets_hidden.txt\")\n",
    "        .map(lambda l: l.split(\"\\t\"))\n",
    "        .toDF([\"user_id\", \"song_id\", \"count\"]))"
   ]
  },
  {
   "cell_type": "code",
   "execution_count": 3,
   "metadata": {},
   "outputs": [
    {
     "data": {
      "application/vnd.jupyter.widget-view+json": {
       "model_id": "4d6469ad9b24418e907ce93ddc0d8095",
       "version_major": 2,
       "version_minor": 0
      },
      "text/plain": [
       "VBox()"
      ]
     },
     "metadata": {},
     "output_type": "display_data"
    },
    {
     "data": {
      "application/vnd.jupyter.widget-view+json": {
       "model_id": "",
       "version_major": 2,
       "version_minor": 0
      },
      "text/plain": [
       "FloatProgress(value=0.0, bar_style='info', description='Progress:', layout=Layout(height='25px', width='50%'),…"
      ]
     },
     "metadata": {},
     "output_type": "display_data"
    }
   ],
   "source": [
    "user_indexer = StringIndexer(\n",
    "    inputCol=\"user_id\",\n",
    "    outputCol=\"user_idx\",\n",
    "    handleInvalid=\"skip\")\n",
    "\n",
    "song_indexer = StringIndexer(\n",
    "    inputCol=\"song_id\",\n",
    "    outputCol=\"song_idx\",\n",
    "    handleInvalid=\"skip\")\n",
    "\n",
    "pipeline = Pipeline(stages=[user_indexer, song_indexer])\n",
    "\n",
    "idx_model = pipeline.fit(train_df)\n",
    "\n",
    "train_df = idx_model.transform(train_df)\n",
    "test_df = idx_model.transform(test_df)"
   ]
  },
  {
   "cell_type": "code",
   "execution_count": 4,
   "metadata": {},
   "outputs": [
    {
     "data": {
      "application/vnd.jupyter.widget-view+json": {
       "model_id": "f7aa607e015e4167a74d06aca03ccd80",
       "version_major": 2,
       "version_minor": 0
      },
      "text/plain": [
       "VBox()"
      ]
     },
     "metadata": {},
     "output_type": "display_data"
    },
    {
     "data": {
      "application/vnd.jupyter.widget-view+json": {
       "model_id": "",
       "version_major": 2,
       "version_minor": 0
      },
      "text/plain": [
       "FloatProgress(value=0.0, bar_style='info', description='Progress:', layout=Layout(height='25px', width='50%'),…"
      ]
     },
     "metadata": {},
     "output_type": "display_data"
    }
   ],
   "source": [
    "def processForALS(df):\n",
    "    return (df\n",
    "            .withColumn(\"user_idx\", F.col(\"user_idx\").cast(IntegerType()))\n",
    "            .withColumn(\"song_idx\", F.col(\"song_idx\").cast(IntegerType()))\n",
    "            .withColumn(\"count\", F.col(\"count\").cast(IntegerType()))\n",
    "            .select(\"user_idx\", \"song_idx\", \"count\"))\n",
    "\n",
    "train_cnts = processForALS(train_df).cache()\n",
    "test_cnts = processForALS(test_df).cache()"
   ]
  },
  {
   "cell_type": "code",
   "execution_count": 14,
   "metadata": {},
   "outputs": [
    {
     "data": {
      "application/vnd.jupyter.widget-view+json": {
       "model_id": "6fa563b38d0e49849ab9dc5f0ac6f0e0",
       "version_major": 2,
       "version_minor": 0
      },
      "text/plain": [
       "VBox()"
      ]
     },
     "metadata": {},
     "output_type": "display_data"
    },
    {
     "data": {
      "application/vnd.jupyter.widget-view+json": {
       "model_id": "",
       "version_major": 2,
       "version_minor": 0
      },
      "text/plain": [
       "FloatProgress(value=0.0, bar_style='info', description='Progress:', layout=Layout(height='25px', width='50%'),…"
      ]
     },
     "metadata": {},
     "output_type": "display_data"
    },
    {
     "name": "stdout",
     "output_type": "stream",
     "text": [
      "+--------+--------------------+\n",
      "|user_idx|       ground_truths|\n",
      "+--------+--------------------+\n",
      "|     148|[7815, 1369, 1154...|\n",
      "|     463|[20243, 30903, 13...|\n",
      "|     471|[15, 70, 2142, 45...|\n",
      "+--------+--------------------+\n",
      "only showing top 3 rows\n",
      "\n",
      "None"
     ]
    }
   ],
   "source": [
    "ground_truths = (test_cnts\n",
    "                .orderBy(\"count\", ascending=False)\n",
    "                .groupBy(\"user_idx\")\n",
    "                .agg(F.collect_list(\"song_idx\").alias(\"ground_truths\"))\n",
    "                .cache())\n",
    "\n",
    "print(ground_truths.show(3))\n",
    "\n",
    "def evaluate_params(train_cnts, ground_truths, rank, reg_param, iters=5):\n",
    "    rec_model = ALS.train(\n",
    "        train_cnts, rank, lambda_=reg_param,\n",
    "        iterations=iters, nonnegative=True)\n",
    "    \n",
    "    preds_df = (rec_model\n",
    "             .recommendProductsForUsers(10)\n",
    "             .mapValues(lambda recs: [rec.product for rec in recs])\n",
    "             .toDF([\"user_idx\", \"preds\"]))\n",
    "    \n",
    "    compare = (ground_truths\n",
    "           .join(preds_df, on=\"user_idx\", how=\"inner\")\n",
    "           .select([\"preds\", \"ground_truths\"])\n",
    "           .rdd\n",
    "           .map(lambda r: (r.preds, r.ground_truths)))\n",
    "    \n",
    "    metrics = RankingMetrics(compare)\n",
    "    return rec_model, metrics"
   ]
  },
  {
   "cell_type": "code",
   "execution_count": 17,
   "metadata": {},
   "outputs": [
    {
     "data": {
      "application/vnd.jupyter.widget-view+json": {
       "model_id": "db19d9f00e3040e59d2ceadc87ad0eee",
       "version_major": 2,
       "version_minor": 0
      },
      "text/plain": [
       "VBox()"
      ]
     },
     "metadata": {},
     "output_type": "display_data"
    },
    {
     "data": {
      "application/vnd.jupyter.widget-view+json": {
       "model_id": "",
       "version_major": 2,
       "version_minor": 0
      },
      "text/plain": [
       "FloatProgress(value=0.0, bar_style='info', description='Progress:', layout=Layout(height='25px', width='50%'),…"
      ]
     },
     "metadata": {},
     "output_type": "display_data"
    },
    {
     "name": "stdout",
     "output_type": "stream",
     "text": [
      "Training Rank 5, Reg 0.1\n",
      "Rank 5, Reg 0.1: 2.4002640290432015e-05\n",
      "Training Rank 10, Reg 0.1\n",
      "Rank 10, Reg 0.1: 3.300363039934402e-05\n",
      "Training Rank 15, Reg 0.1\n",
      "Rank 15, Reg 0.1: 2.2002420266229282e-05\n",
      "Training Rank 20, Reg 0.1\n",
      "Rank 20, Reg 0.1: 2.7002970326736017e-05"
     ]
    }
   ],
   "source": [
    "from itertools import product\n",
    "\n",
    "ranks = [5, 10, 15, 20]\n",
    "regs = [0.1]\n",
    "\n",
    "\n",
    "for (rank, reg_param) in product(ranks, regs):\n",
    "    print(f\"Training Rank {rank}, Reg {reg_param}\")\n",
    "    rec_model, metrics = evaluate_params(train_cnts, ground_truths, rank, reg_param)\n",
    "#     all_models.append(rec_model)\n",
    "#     all_metrics.append(metrics)\n",
    "    \n",
    "    print(f\"Rank {rank}, Reg {reg_param}: {metrics.precisionAt(10)}\")"
   ]
  },
  {
   "cell_type": "code",
   "execution_count": 18,
   "metadata": {},
   "outputs": [
    {
     "data": {
      "application/vnd.jupyter.widget-view+json": {
       "model_id": "10cd532f01ba477ca910fbddaf234fcc",
       "version_major": 2,
       "version_minor": 0
      },
      "text/plain": [
       "VBox()"
      ]
     },
     "metadata": {},
     "output_type": "display_data"
    },
    {
     "data": {
      "application/vnd.jupyter.widget-view+json": {
       "model_id": "",
       "version_major": 2,
       "version_minor": 0
      },
      "text/plain": [
       "FloatProgress(value=0.0, bar_style='info', description='Progress:', layout=Layout(height='25px', width='50%'),…"
      ]
     },
     "metadata": {},
     "output_type": "display_data"
    },
    {
     "name": "stdout",
     "output_type": "stream",
     "text": [
      "Training Rank 25, Reg 0.1\n",
      "Rank 25, Reg 0.1: 2.5002750302533345e-05\n",
      "Training Rank 30, Reg 0.1\n",
      "Rank 30, Reg 0.1: 2.800308033883736e-05"
     ]
    }
   ],
   "source": [
    "ranks = [25, 30]\n",
    "regs = [0.1]\n",
    "\n",
    "\n",
    "for (rank, reg_param) in product(ranks, regs):\n",
    "    print(f\"Training Rank {rank}, Reg {reg_param}\")\n",
    "    rec_model, metrics = evaluate_params(train_cnts, ground_truths, rank, reg_param)\n",
    "#     all_models.append(rec_model)\n",
    "#     all_metrics.append(metrics)\n",
    "    \n",
    "    print(f\"Rank {rank}, Reg {reg_param}: {metrics.precisionAt(10)}\")"
   ]
  },
  {
   "cell_type": "code",
   "execution_count": 8,
   "metadata": {},
   "outputs": [
    {
     "data": {
      "application/vnd.jupyter.widget-view+json": {
       "model_id": "050a60d548194887bc50293af061bb99",
       "version_major": 2,
       "version_minor": 0
      },
      "text/plain": [
       "VBox()"
      ]
     },
     "metadata": {},
     "output_type": "display_data"
    },
    {
     "data": {
      "application/vnd.jupyter.widget-view+json": {
       "model_id": "",
       "version_major": 2,
       "version_minor": 0
      },
      "text/plain": [
       "FloatProgress(value=0.0, bar_style='info', description='Progress:', layout=Layout(height='25px', width='50%'),…"
      ]
     },
     "metadata": {},
     "output_type": "display_data"
    },
    {
     "name": "stdout",
     "output_type": "stream",
     "text": [
      "(157251, 111578, 111578)"
     ]
    }
   ],
   "source": [
    "train_songs = train_cnts.select(\"song_idx\").distinct().collect()\n",
    "test_songs = test_cnts.select(\"song_idx\").distinct().collect()\n",
    "len(train_songs), len(test_songs), len(set(test_songs) & set(train_songs))"
   ]
  },
  {
   "cell_type": "code",
   "execution_count": 9,
   "metadata": {},
   "outputs": [
    {
     "data": {
      "application/vnd.jupyter.widget-view+json": {
       "model_id": "b0bac2ad64b644a99055ca2e979d6421",
       "version_major": 2,
       "version_minor": 0
      },
      "text/plain": [
       "VBox()"
      ]
     },
     "metadata": {},
     "output_type": "display_data"
    },
    {
     "data": {
      "application/vnd.jupyter.widget-view+json": {
       "model_id": "",
       "version_major": 2,
       "version_minor": 0
      },
      "text/plain": [
       "FloatProgress(value=0.0, bar_style='info', description='Progress:', layout=Layout(height='25px', width='50%'),…"
      ]
     },
     "metadata": {},
     "output_type": "display_data"
    },
    {
     "name": "stdout",
     "output_type": "stream",
     "text": [
      "True"
     ]
    }
   ],
   "source": [
    "set(test_songs) <= set(train_songs)"
   ]
  },
  {
   "cell_type": "code",
   "execution_count": 12,
   "metadata": {},
   "outputs": [
    {
     "data": {
      "application/vnd.jupyter.widget-view+json": {
       "model_id": "cfc460544cbe4a8c86bdb5ebc6201c02",
       "version_major": 2,
       "version_minor": 0
      },
      "text/plain": [
       "VBox()"
      ]
     },
     "metadata": {},
     "output_type": "display_data"
    },
    {
     "data": {
      "application/vnd.jupyter.widget-view+json": {
       "model_id": "",
       "version_major": 2,
       "version_minor": 0
      },
      "text/plain": [
       "FloatProgress(value=0.0, bar_style='info', description='Progress:', layout=Layout(height='25px', width='50%'),…"
      ]
     },
     "metadata": {},
     "output_type": "display_data"
    },
    {
     "name": "stdout",
     "output_type": "stream",
     "text": [
      "+--------+--------+-----+\n",
      "|user_idx|song_idx|count|\n",
      "+--------+--------+-----+\n",
      "|   46282|   11221|    1|\n",
      "|   24906|    1805|    1|\n",
      "|   46282|  146926|    1|\n",
      "|   46282|    3313|    1|\n",
      "|   24906|       0|    1|\n",
      "|   60210|   35191|    1|\n",
      "|   60210|    1661|    1|\n",
      "|   46282|      17|    1|\n",
      "|   60210|     415|    1|\n",
      "|   24906|    3848|    1|\n",
      "+--------+--------+-----+\n",
      "only showing top 10 rows"
     ]
    }
   ],
   "source": [
    "test_cnts.orderBy(\"count\", ascending=False).show(10)"
   ]
  },
  {
   "cell_type": "code",
   "execution_count": null,
   "metadata": {},
   "outputs": [],
   "source": []
  }
 ],
 "metadata": {
  "kernelspec": {
   "display_name": "PySpark",
   "language": "",
   "name": "pysparkkernel"
  },
  "language_info": {
   "codemirror_mode": {
    "name": "python",
    "version": 3
   },
   "mimetype": "text/x-python",
   "name": "pyspark",
   "pygments_lexer": "python3"
  }
 },
 "nbformat": 4,
 "nbformat_minor": 4
}
